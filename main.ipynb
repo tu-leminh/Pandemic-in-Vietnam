{
 "cells": [
  {
   "cell_type": "code",
   "execution_count": 8,
   "metadata": {
    "collapsed": true
   },
   "outputs": [],
   "source": [
    "import pandas as pd"
   ]
  },
  {
   "cell_type": "code",
   "execution_count": 11,
   "outputs": [
    {
     "data": {
      "text/plain": "date                          0\ntotal_cases                   0\nnew_cases                     0\ntotal_deaths                  0\nnew_deaths                    0\nreproduction_rate             0\nnew_tests                     0\ntotal_tests                   0\ntotal_vaccinations            0\npeople_vaccinated             0\npeople_fully_vaccinated       0\nnew_vaccinations              0\nstringency_index              0\npopulation                    0\npopulation_density            0\nmedian_age                    0\naged_65_older                 0\naged_70_older                 0\ngdp_per_capita                0\nextreme_poverty               0\ncardiovasc_death_rate         0\ndiabetes_prevalence           0\nfemale_smokers                0\nmale_smokers                  0\nhandwashing_facilities        0\nhospital_beds_per_thousand    0\nlife_expectancy               0\nhuman_development_index       0\ndtype: int64"
     },
     "execution_count": 11,
     "metadata": {},
     "output_type": "execute_result"
    }
   ],
   "source": [
    "df = pd.read_csv('data.csv')\n",
    "df = df[df['iso_code'] == 'VNM']\n",
    "df = df.reset_index()\n",
    "df['date'] = pd.to_datetime(df['date'])\n",
    "df = df.drop(['index', 'iso_code', 'continent', 'location', 'icu_patients', 'icu_patients_per_million', 'hosp_patients',\n",
    "              'hosp_patients_per_million', 'weekly_icu_admissions', 'weekly_icu_admissions_per_million',\n",
    "              'weekly_hosp_admissions', 'weekly_hosp_admissions_per_million', 'total_boosters',\n",
    "              'total_boosters_per_hundred', 'excess_mortality_cumulative_absolute', 'excess_mortality_cumulative',\n",
    "              'excess_mortality_cumulative', 'excess_mortality_cumulative_per_million', 'excess_mortality',\n",
    "              'total_tests_per_thousand', 'new_tests_per_thousand', 'new_tests_smoothed',\n",
    "              'new_tests_smoothed_per_thousand', 'positive_rate', 'tests_per_case', 'tests_units',\n",
    "              'new_vaccinations_smoothed_per_million', 'people_fully_vaccinated_per_hundred',\n",
    "              'people_vaccinated_per_hundred', 'total_vaccinations_per_hundred', 'new_vaccinations_smoothed',\n",
    "              'new_cases_smoothed', 'new_deaths_smoothed', 'total_cases_per_million', 'new_cases_per_million',\n",
    "              'new_cases_smoothed_per_million', 'new_cases_smoothed_per_million', 'new_cases_smoothed_per_million',\n",
    "              'new_deaths_per_million', 'new_deaths_smoothed_per_million','total_deaths_per_million'], axis=1)\n",
    "df.iloc[:, 3:13] = df.iloc[:, 3:13].fillna(0)\n",
    "df['reproduction_rate'] = df['reproduction_rate'].fillna(value=0, limit=1)\n",
    "df['reproduction_rate'] = df['reproduction_rate'].fillna(method='ffill')\n",
    "df['new_tests'] = df['new_tests'].fillna(0)\n",
    "df['total_tests'] = df['total_tests'].fillna(method='ffill')\n",
    "df['total_tests'] = df['total_tests'].fillna(value=0, limit=1)\n",
    "df['total_tests'] = df['total_tests'].fillna(method='ffill')\n",
    "df.iloc[:, 16:20] = df.iloc[:, 16:20].fillna(value=0, limit=1)\n",
    "df.iloc[:, 16:21] = df.iloc[:, 16:21].fillna(method='ffill')\n",
    "df['stringency_index']=df['stringency_index'].replace(to_replace=0,method='ffill')\n",
    "df.at[21, 'new_tests'] = 856\n",
    "df.isna().sum()"
   ],
   "metadata": {
    "collapsed": false,
    "pycharm": {
     "name": "#%%\n"
    }
   }
  },
  {
   "cell_type": "code",
   "execution_count": 12,
   "outputs": [],
   "source": [
    "df.to_csv('data_clean.csv')"
   ],
   "metadata": {
    "collapsed": false,
    "pycharm": {
     "name": "#%%\n"
    }
   }
  }
 ],
 "metadata": {
  "kernelspec": {
   "display_name": "Python 3",
   "language": "python",
   "name": "python3"
  },
  "language_info": {
   "codemirror_mode": {
    "name": "ipython",
    "version": 2
   },
   "file_extension": ".py",
   "mimetype": "text/x-python",
   "name": "python",
   "nbconvert_exporter": "python",
   "pygments_lexer": "ipython2",
   "version": "2.7.6"
  }
 },
 "nbformat": 4,
 "nbformat_minor": 0
}