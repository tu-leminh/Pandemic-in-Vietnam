{
 "cells": [
  {
   "cell_type": "markdown",
   "metadata": {},
   "source": []
  },
  {
   "cell_type": "code",
   "execution_count": 2,
   "metadata": {},
   "outputs": [],
   "source": [
    "import requests\n",
    "import json"
   ]
  },
  {
   "cell_type": "code",
   "execution_count": 42,
   "metadata": {},
   "outputs": [],
   "source": [
    "for i in range(1, 65):\n",
    "    covid = requests.get('https://covid19.ncsc.gov.vn/api/v3/covid/province/' + str(i))\n",
    "    vaccine = requests.get('https://covid19.ncsc.gov.vn/api/v3/vaccine/province/' + str(i))\n",
    "\n",
    "    # name the file\n",
    "    x = covid.json()['name']\n",
    "    province = \"\".join(e[0] for e in x.split())\n",
    "    \n",
    "    file = open(format(i, '02d') + '_' + province + '.csv', 'w')\n",
    "    file.write('{}, {}, {}\\n'.format('day', 'case', 'vaccine provided'))\n",
    "    for k, v in covid.json()['case_by_day'].items():\n",
    "\n",
    "        if k in vaccine.json()['vaccine_provided_by_time']:\n",
    "            vaccine_provided = vaccine.json()['vaccine_provided_by_time'][k]\n",
    "        else:\n",
    "            vaccine_provided = 0\n",
    "        \n",
    "        file.write('{}, {}, {}\\n'.format(k, v, vaccine_provided))\n",
    "    file.close()"
   ]
  }
 ],
 "metadata": {
  "interpreter": {
   "hash": "63fd5069d213b44bf678585dea6b12cceca9941eaf7f819626cde1f2670de90d"
  },
  "kernelspec": {
   "display_name": "Python 3.9.6 64-bit",
   "language": "python",
   "name": "python3"
  },
  "language_info": {
   "codemirror_mode": {
    "name": "ipython",
    "version": 3
   },
   "file_extension": ".py",
   "mimetype": "text/x-python",
   "name": "python",
   "nbconvert_exporter": "python",
   "pygments_lexer": "ipython3",
   "version": "3.10.0"
  },
  "orig_nbformat": 4
 },
 "nbformat": 4,
 "nbformat_minor": 2
}
